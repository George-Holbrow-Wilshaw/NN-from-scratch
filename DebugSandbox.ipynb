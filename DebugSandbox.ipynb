{
 "cells": [
  {
   "cell_type": "code",
   "execution_count": 25,
   "metadata": {},
   "outputs": [],
   "source": [
    "from bin.layers import *\n",
    "import bin.activation_functions as af\n",
    "import bin.loss_functions as lf"
   ]
  },
  {
   "cell_type": "code",
   "execution_count": 26,
   "metadata": {},
   "outputs": [],
   "source": [
    "net = SequentialNetwork([\n",
    "    FullyConnectedLayer(784, input_shape = (7, ), activation_function =  af.relu),\n",
    "    FullyConnectedLayer(120, input_shape = (3, ), activation_function =  af.softmax),\n",
    "    FullyConnectedLayer(10, input_shape = (3, ), activation_function =  af.softmax)\n",
    "])\n",
    "\n",
    "net = net.compile(optimiser = 'SGD',\n",
    "           loss_function = '',\n",
    "           metrics = '')"
   ]
  },
  {
   "cell_type": "code",
   "execution_count": 53,
   "metadata": {},
   "outputs": [],
   "source": [
    "# Testing section\n",
    "\n",
    "\n",
    "from keras.datasets import mnist\n",
    "(train_X, train_y), (test_X, test_y) = mnist.load_data()\n",
    "training_data = train_X[:50000, :, :].reshape(50000, 784) / 255.0\n",
    "train_y = train_y[:50000]\n",
    "\n",
    "test_data = test_X[:10000, :, :].reshape(10000, 784) / 255.0\n",
    "test_labels = test_y[:10000]\n",
    "\n",
    "\n",
    "# We need to one-hot encode our training labels\n",
    "\n",
    "training_labels = np.zeros((train_y.shape[0], train_y.max()+1), dtype=np.float32)\n",
    "training_labels[np.arange(train_y.shape[0]), train_y] = 1\n"
   ]
  },
  {
   "cell_type": "code",
   "execution_count": 54,
   "metadata": {},
   "outputs": [
    {
     "name": "stdout",
     "output_type": "stream",
     "text": [
      "0\n",
      "1\n",
      "2\n",
      "3\n",
      "4\n",
      "5\n",
      "6\n",
      "7\n",
      "8\n",
      "9\n"
     ]
    }
   ],
   "source": [
    "model = net.fit(training_data = training_data,  \n",
    "        labels = training_labels, \n",
    "        validation_data = None, \n",
    "        metrics='bel', \n",
    "        n_epochs = 10, \n",
    "        learning_rate = 0.01)"
   ]
  },
  {
   "cell_type": "code",
   "execution_count": 59,
   "metadata": {},
   "outputs": [
    {
     "name": "stdout",
     "output_type": "stream",
     "text": [
      "[[0.00000000e+000 0.00000000e+000 0.00000000e+000 0.00000000e+000\n",
      "  0.00000000e+000 0.00000000e+000 0.00000000e+000 0.00000000e+000\n",
      "  0.00000000e+000 0.00000000e+000]\n",
      " [0.00000000e+000 0.00000000e+000 0.00000000e+000 0.00000000e+000\n",
      "  1.00000000e+000 0.00000000e+000 0.00000000e+000 1.18718143e-299\n",
      "  3.84040137e-240 8.99865758e-106]]\n",
      "[0, 4]\n",
      "[1 4]\n"
     ]
    }
   ],
   "source": [
    "test_d = test_data[[5, 6]]\n",
    "test_l = test_y[[5, 6]]\n",
    "\n",
    "prediction_weights = model.predict(test_d)\n",
    "prediction_classes = [np.argmax(p) for p in prediction_weights]\n",
    "\n",
    "print(prediction_classes)\n",
    "print(test_l)"
   ]
  },
  {
   "cell_type": "code",
   "execution_count": 60,
   "metadata": {},
   "outputs": [
    {
     "ename": "SyntaxError",
     "evalue": "unexpected EOF while parsing (<ipython-input-60-34077bf490f7>, line 1)",
     "output_type": "error",
     "traceback": [
      "\u001b[0;36m  File \u001b[0;32m\"<ipython-input-60-34077bf490f7>\"\u001b[0;36m, line \u001b[0;32m1\u001b[0m\n\u001b[0;31m    np.argmax(np.array([[0.2, 0.8], [0.2, 0.9]])\u001b[0m\n\u001b[0m                                                ^\u001b[0m\n\u001b[0;31mSyntaxError\u001b[0m\u001b[0;31m:\u001b[0m unexpected EOF while parsing\n"
     ]
    }
   ],
   "source": [
    "np.argmax(np.array([[0.2, 0.8], [0.2, 0.9]])"
   ]
  },
  {
   "cell_type": "code",
   "execution_count": 42,
   "metadata": {},
   "outputs": [
    {
     "data": {
      "text/plain": [
       "array([0., 0., 0., 0., 0., 0., 0., 0., 0., 0.])"
      ]
     },
     "execution_count": 42,
     "metadata": {},
     "output_type": "execute_result"
    }
   ],
   "source": [
    "prediction_weights[0]"
   ]
  },
  {
   "cell_type": "code",
   "execution_count": null,
   "metadata": {},
   "outputs": [],
   "source": []
  },
  {
   "cell_type": "code",
   "execution_count": null,
   "metadata": {},
   "outputs": [],
   "source": []
  },
  {
   "cell_type": "code",
   "execution_count": null,
   "metadata": {},
   "outputs": [],
   "source": []
  },
  {
   "cell_type": "code",
   "execution_count": null,
   "metadata": {},
   "outputs": [],
   "source": []
  },
  {
   "cell_type": "code",
   "execution_count": null,
   "metadata": {},
   "outputs": [],
   "source": []
  },
  {
   "cell_type": "code",
   "execution_count": null,
   "metadata": {},
   "outputs": [],
   "source": []
  },
  {
   "cell_type": "code",
   "execution_count": null,
   "metadata": {},
   "outputs": [],
   "source": []
  },
  {
   "cell_type": "code",
   "execution_count": null,
   "metadata": {},
   "outputs": [],
   "source": []
  },
  {
   "cell_type": "code",
   "execution_count": null,
   "metadata": {},
   "outputs": [],
   "source": []
  },
  {
   "cell_type": "code",
   "execution_count": null,
   "metadata": {},
   "outputs": [],
   "source": []
  }
 ],
 "metadata": {
  "kernelspec": {
   "display_name": "Python 3",
   "language": "python",
   "name": "python3"
  }
 },
 "nbformat": 4,
 "nbformat_minor": 4
}
