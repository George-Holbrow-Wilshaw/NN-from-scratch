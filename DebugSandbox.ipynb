{
 "cells": [
  {
   "cell_type": "code",
   "execution_count": 1,
   "metadata": {},
   "outputs": [],
   "source": [
    "import os\n",
    "from bin.layers import *\n",
    "import bin.activation_functions as af\n",
    "import bin.loss_functions as lf"
   ]
  },
  {
   "cell_type": "code",
   "execution_count": 2,
   "metadata": {
    "scrolled": true
   },
   "outputs": [],
   "source": [
    "net = SequentialNetwork([\n",
    "    FullyConnectedLayer(784, input_shape = (7, ), activation_function =  af.relu),\n",
    "    FullyConnectedLayer(120, input_shape = (3, ), activation_function =  af.relu),\n",
    "    FullyConnectedLayer(28, input_shape = (3, ), activation_function =  af.relu),\n",
    "    FullyConnectedLayer(10, input_shape = (3, ), activation_function =  af.softmax)\n",
    "])\n",
    "\n",
    "net = net.compile(optimiser = 'SGD',\n",
    "           loss_function = '',\n",
    "           metrics = '')"
   ]
  },
  {
   "cell_type": "code",
   "execution_count": 6,
   "metadata": {},
   "outputs": [],
   "source": [
    "# Testing section\n",
    "from keras.datasets import mnist\n",
    "(train_X, train_y), (test_X, test_y) = mnist.load_data()\n",
    "training_data = train_X[:50000, :, :].reshape(50000, 784) / 255.0\n",
    "train_y = train_y[:50000]\n",
    "\n",
    "test_data = test_X[:10000, :, :].reshape(10000, 784) / 255.0\n",
    "test_labels = test_y[:10000]\n",
    "\n",
    "\n",
    "# We need to one-hot encode our training labels\n",
    "training_labels = np.zeros((train_y.shape[0], train_y.max()+1), dtype=np.float32)\n",
    "training_labels[np.arange(train_y.shape[0]), train_y] = 1\n"
   ]
  },
  {
   "cell_type": "code",
   "execution_count": 7,
   "metadata": {},
   "outputs": [
    {
     "data": {
      "application/vnd.jupyter.widget-view+json": {
       "model_id": "fb04cd6043ce49a0951806ce49fa8212",
       "version_major": 2,
       "version_minor": 0
      },
      "text/plain": [
       "HBox(children=(FloatProgress(value=0.0, max=10.0), HTML(value='')))"
      ]
     },
     "metadata": {},
     "output_type": "display_data"
    },
    {
     "name": "stdout",
     "output_type": "stream",
     "text": [
      "Training started: Epoch 1\n"
     ]
    },
    {
     "data": {
      "application/vnd.jupyter.widget-view+json": {
       "model_id": "1dd77ff64286438aa8482ff02e42ae28",
       "version_major": 2,
       "version_minor": 0
      },
      "text/plain": [
       "HBox(children=(FloatProgress(value=0.0, max=35000.0), HTML(value='')))"
      ]
     },
     "metadata": {},
     "output_type": "display_data"
    },
    {
     "name": "stdout",
     "output_type": "stream",
     "text": [
      "\n",
      "Epoch training accuracy was 0.451920 \n",
      "\n",
      "Epoch validation accuracy was 0.842600 \n",
      "\n",
      "Training started: Epoch 2\n"
     ]
    },
    {
     "data": {
      "application/vnd.jupyter.widget-view+json": {
       "model_id": "1e7e3325f3014f39a1af6a2aaef30c60",
       "version_major": 2,
       "version_minor": 0
      },
      "text/plain": [
       "HBox(children=(FloatProgress(value=0.0, max=35000.0), HTML(value='')))"
      ]
     },
     "metadata": {},
     "output_type": "display_data"
    },
    {
     "name": "stdout",
     "output_type": "stream",
     "text": [
      "\n",
      "Epoch training accuracy was 0.595480 \n",
      "\n",
      "Epoch validation accuracy was 0.865333 \n",
      "\n",
      "Training started: Epoch 3\n"
     ]
    },
    {
     "data": {
      "application/vnd.jupyter.widget-view+json": {
       "model_id": "ae5c3aa1e9294feabc7158e1f559c978",
       "version_major": 2,
       "version_minor": 0
      },
      "text/plain": [
       "HBox(children=(FloatProgress(value=0.0, max=35000.0), HTML(value='')))"
      ]
     },
     "metadata": {},
     "output_type": "display_data"
    },
    {
     "name": "stdout",
     "output_type": "stream",
     "text": [
      "\n",
      "Epoch training accuracy was 0.615620 \n",
      "\n",
      "Epoch validation accuracy was 0.878867 \n",
      "\n",
      "Training started: Epoch 4\n"
     ]
    },
    {
     "data": {
      "application/vnd.jupyter.widget-view+json": {
       "model_id": "90f3b870b4a246e6ab5319d079cd750d",
       "version_major": 2,
       "version_minor": 0
      },
      "text/plain": [
       "HBox(children=(FloatProgress(value=0.0, max=35000.0), HTML(value='')))"
      ]
     },
     "metadata": {},
     "output_type": "display_data"
    },
    {
     "name": "stdout",
     "output_type": "stream",
     "text": [
      "\n",
      "Epoch training accuracy was 0.625740 \n",
      "\n",
      "Epoch validation accuracy was 0.891533 \n",
      "\n",
      "Training started: Epoch 5\n"
     ]
    },
    {
     "data": {
      "application/vnd.jupyter.widget-view+json": {
       "model_id": "fba07778c41f405f8b5c96c80e5b3e05",
       "version_major": 2,
       "version_minor": 0
      },
      "text/plain": [
       "HBox(children=(FloatProgress(value=0.0, max=35000.0), HTML(value='')))"
      ]
     },
     "metadata": {},
     "output_type": "display_data"
    },
    {
     "name": "stdout",
     "output_type": "stream",
     "text": [
      "\n",
      "Epoch training accuracy was 0.633640 \n",
      "\n",
      "Epoch validation accuracy was 0.890733 \n",
      "\n",
      "Training started: Epoch 6\n"
     ]
    },
    {
     "data": {
      "application/vnd.jupyter.widget-view+json": {
       "model_id": "04c48a4a856243f0add5b180b00e3654",
       "version_major": 2,
       "version_minor": 0
      },
      "text/plain": [
       "HBox(children=(FloatProgress(value=0.0, max=35000.0), HTML(value='')))"
      ]
     },
     "metadata": {},
     "output_type": "display_data"
    },
    {
     "name": "stdout",
     "output_type": "stream",
     "text": [
      "\n",
      "Epoch training accuracy was 0.637700 \n",
      "\n",
      "Epoch validation accuracy was 0.900467 \n",
      "\n",
      "Training started: Epoch 7\n"
     ]
    },
    {
     "data": {
      "application/vnd.jupyter.widget-view+json": {
       "model_id": "39e63f419435452e91a30429e3d9b554",
       "version_major": 2,
       "version_minor": 0
      },
      "text/plain": [
       "HBox(children=(FloatProgress(value=0.0, max=35000.0), HTML(value='')))"
      ]
     },
     "metadata": {},
     "output_type": "display_data"
    },
    {
     "name": "stdout",
     "output_type": "stream",
     "text": [
      "\n",
      "Epoch training accuracy was 0.642840 \n",
      "\n",
      "Epoch validation accuracy was 0.920000 \n",
      "\n",
      "Training started: Epoch 8\n"
     ]
    },
    {
     "data": {
      "application/vnd.jupyter.widget-view+json": {
       "model_id": "ee88e8d3a2e5452ebaf4c161306002c3",
       "version_major": 2,
       "version_minor": 0
      },
      "text/plain": [
       "HBox(children=(FloatProgress(value=0.0, max=35000.0), HTML(value='')))"
      ]
     },
     "metadata": {},
     "output_type": "display_data"
    },
    {
     "name": "stdout",
     "output_type": "stream",
     "text": [
      "\n",
      "Epoch training accuracy was 0.648280 \n",
      "\n",
      "Epoch validation accuracy was 0.926067 \n",
      "\n",
      "Training started: Epoch 9\n"
     ]
    },
    {
     "data": {
      "application/vnd.jupyter.widget-view+json": {
       "model_id": "e7f5b0573a51416380ead4bf83326580",
       "version_major": 2,
       "version_minor": 0
      },
      "text/plain": [
       "HBox(children=(FloatProgress(value=0.0, max=35000.0), HTML(value='')))"
      ]
     },
     "metadata": {},
     "output_type": "display_data"
    },
    {
     "name": "stdout",
     "output_type": "stream",
     "text": [
      "\n",
      "Epoch training accuracy was 0.650500 \n",
      "\n",
      "Epoch validation accuracy was 0.927733 \n",
      "\n",
      "Training started: Epoch 10\n"
     ]
    },
    {
     "data": {
      "application/vnd.jupyter.widget-view+json": {
       "model_id": "1c4a2217e61f4109818f74a79a53a70d",
       "version_major": 2,
       "version_minor": 0
      },
      "text/plain": [
       "HBox(children=(FloatProgress(value=0.0, max=35000.0), HTML(value='')))"
      ]
     },
     "metadata": {},
     "output_type": "display_data"
    },
    {
     "name": "stdout",
     "output_type": "stream",
     "text": [
      "\n",
      "Epoch training accuracy was 0.653560 \n",
      "\n",
      "Epoch validation accuracy was 0.930933 \n",
      "\n",
      "\n"
     ]
    }
   ],
   "source": [
    "model = net.fit(training_data = training_data,  \n",
    "        labels = training_labels, \n",
    "        validation_split = 0.3, \n",
    "        metrics='bel', \n",
    "        n_epochs = 10, \n",
    "        learning_rate = 0.001)"
   ]
  },
  {
   "cell_type": "code",
   "execution_count": 5,
   "metadata": {},
   "outputs": [
    {
     "name": "stdout",
     "output_type": "stream",
     "text": [
      "[4, 0, 1, 0, 4, 1, 4, 4, 0, 0, 0, 0, 4, 0, 1]\n",
      "[7 2 1 0 4 1 4 9 5 9 0 6 9 0 1]\n"
     ]
    }
   ],
   "source": [
    "test_d = test_data[:15]\n",
    "test_l = test_y[:15]\n",
    "\n",
    "prediction_weights = model.predict(test_d)\n",
    "prediction_classes = [np.argmax(p) for p in prediction_weights]\n",
    "\n",
    "print(prediction_classes)\n",
    "print(test_l)"
   ]
  },
  {
   "cell_type": "code",
   "execution_count": null,
   "metadata": {},
   "outputs": [],
   "source": [
    "accuracy = 1 - (np.sum(prediction_classes - test_l) / len(test_l))"
   ]
  },
  {
   "cell_type": "code",
   "execution_count": null,
   "metadata": {},
   "outputs": [],
   "source": [
    "len(training_data)"
   ]
  },
  {
   "cell_type": "code",
   "execution_count": null,
   "metadata": {},
   "outputs": [],
   "source": []
  },
  {
   "cell_type": "code",
   "execution_count": null,
   "metadata": {},
   "outputs": [],
   "source": []
  },
  {
   "cell_type": "code",
   "execution_count": null,
   "metadata": {},
   "outputs": [],
   "source": [
    "[0, 1, 0] == [1, 0, 0]"
   ]
  },
  {
   "cell_type": "code",
   "execution_count": null,
   "metadata": {},
   "outputs": [],
   "source": []
  },
  {
   "cell_type": "code",
   "execution_count": null,
   "metadata": {},
   "outputs": [],
   "source": []
  },
  {
   "cell_type": "code",
   "execution_count": null,
   "metadata": {},
   "outputs": [],
   "source": [
    "import random\n",
    "random.sample(range(10), 3)"
   ]
  },
  {
   "cell_type": "code",
   "execution_count": null,
   "metadata": {},
   "outputs": [],
   "source": [
    "a = [1, 2, 3, 4, 5]\n",
    "b = [1, 2, 3]"
   ]
  },
  {
   "cell_type": "code",
   "execution_count": null,
   "metadata": {},
   "outputs": [],
   "source": [
    "list(set(a) - set(b))"
   ]
  },
  {
   "cell_type": "code",
   "execution_count": null,
   "metadata": {},
   "outputs": [],
   "source": []
  },
  {
   "cell_type": "code",
   "execution_count": null,
   "metadata": {},
   "outputs": [],
   "source": []
  }
 ],
 "metadata": {
  "kernelspec": {
   "display_name": "Python 3",
   "language": "python",
   "name": "python3"
  },
  "language_info": {
   "codemirror_mode": {
    "name": "ipython",
    "version": 3
   },
   "file_extension": ".py",
   "mimetype": "text/x-python",
   "name": "python",
   "nbconvert_exporter": "python",
   "pygments_lexer": "ipython3",
   "version": "3.7.6"
  }
 },
 "nbformat": 4,
 "nbformat_minor": 4
}
